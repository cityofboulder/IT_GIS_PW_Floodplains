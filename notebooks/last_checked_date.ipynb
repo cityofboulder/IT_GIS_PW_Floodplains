{
 "metadata": {
  "language_info": {
   "codemirror_mode": {
    "name": "ipython",
    "version": 3
   },
   "file_extension": ".py",
   "mimetype": "text/x-python",
   "name": "python",
   "nbconvert_exporter": "python",
   "pygments_lexer": "ipython3",
   "version": "3.8.3-final"
  },
  "orig_nbformat": 2,
  "kernelspec": {
   "name": "python3",
   "display_name": "Python 3",
   "language": "python"
  }
 },
 "nbformat": 4,
 "nbformat_minor": 2,
 "cells": [
  {
   "cell_type": "code",
   "execution_count": null,
   "metadata": {},
   "outputs": [],
   "source": [
    "import arcgis\n",
    "from datetime import datetime"
   ]
  },
  {
   "cell_type": "code",
   "execution_count": null,
   "metadata": {},
   "outputs": [],
   "source": [
    "url = \"https://maps.bouldercolorado.gov/arcgis3/rest/services/util/Floodplain/MapServer\"\n",
    "floodplain = arcgis.features.FeatureLayerCollection(url).layers[3]"
   ]
  },
  {
   "cell_type": "code",
   "execution_count": null,
   "metadata": {},
   "outputs": [],
   "source": [
    "where = \"LAST_EDITED_USER = 'GISSCR' AND FLOODPLAIN IN ('100 Year', 'Conveyance Zone', '500 Year')\"\n",
    "query = floodplain.query(out_fields=[\"LAST_EDITED_USER\", \"LAST_EDITED_DATE\"],\n",
    "                         where=where,\n",
    "                         return_geometry=False)\n",
    "ts = max([feat.attributes[\"LAST_EDITED_DATE\"] for feat in query.features])/1000\n",
    "last_date = datetime.fromtimestamp(ts).strftime(\"%Y-%m-%d\")\n",
    "last_date"
   ]
  },
  {
   "cell_type": "code",
   "execution_count": null,
   "metadata": {},
   "outputs": [],
   "source": []
  }
 ]
}