{
 "cells": [
  {
   "cell_type": "markdown",
   "metadata": {},
   "source": [
    "# Spatial Filtering w/ LOMRs\n",
    "\n",
    "Accessing LOMRs can now be done through ESRI's RESTful API. I now want to experiment with extracting all the floodplain delineations that exist inside of LOMR boundaries.\n",
    "\n",
    "## Background\n",
    "\n",
    "Part of FEMA's process for publishing floodplain updates to their GIS is cutting the floodplains with the LOMR boundary. In this way, there is a clean break in the floodplains, and spatial queries are greatly simplified: all we need to do in order to extract the changed floodplains is filter spatially:\n",
    "\n",
    "```python\n",
    "lomr_boundary.contains(floodplain_geometry)\n",
    "## OR ##\n",
    "floodplain_geometry.within(lomr_boundary)\n",
    "```"
   ]
  },
  {
   "cell_type": "code",
   "execution_count": null,
   "metadata": {},
   "outputs": [],
   "source": [
    "from arcgis.gis import GIS\n",
    "from arcgis.features import Feature, FeatureLayer, FeatureLayerCollection\n",
    "from arcgis.geometry import Geometry, filters, union, buffer"
   ]
  },
  {
   "cell_type": "markdown",
   "metadata": {},
   "source": [
    "Extract Boulder city limits, FEMA lomr boundaries, and FEMA special flood hazard areas (sfha) polygons"
   ]
  },
  {
   "cell_type": "code",
   "execution_count": null,
   "metadata": {},
   "outputs": [],
   "source": [
    "city_lims_url = \"https://maps.bouldercolorado.gov/arcgis/rest/services/plan/CityLimits/MapServer/0\"\n",
    "city = FeatureLayer(city_lims_url)\n",
    "\n",
    "nfhl_url = \"https://hazards.fema.gov/gis/nfhl/rest/services/public/NFHL/MapServer\"\n",
    "nfhl = FeatureLayerCollection(nfhl_url)\n",
    "lomr = nfhl.layers[1]\n",
    "sfha = nfhl.layers[27]"
   ]
  },
  {
   "cell_type": "markdown",
   "metadata": {},
   "source": [
    "Define the output spatial reference"
   ]
  },
  {
   "cell_type": "code",
   "execution_count": null,
   "metadata": {},
   "outputs": [],
   "source": [
    "sr = 2876 # NAD83(HARN) / Colorado North (ftUS)"
   ]
  },
  {
   "cell_type": "markdown",
   "metadata": {},
   "source": [
    "Extract city limits as a spatial filter object, and get all lomrs inside"
   ]
  },
  {
   "cell_type": "code",
   "execution_count": null,
   "metadata": {},
   "outputs": [],
   "source": [
    "# using extents of the city\n",
    "# city_ext = city.properties.extent\n",
    "# geom_filter = filters.intersects(city_ext)\n",
    "\n",
    "# using the unioned city boundary polygon\n",
    "anon_gis = GIS()\n",
    "city_lims = city.query(out_sr=sr)\n",
    "city_geoms = [poly.geometry for poly in city_lims.features]\n",
    "city_union = union(spatial_ref=sr, geometries=city_geoms, gis=anon_gis)\n",
    "geom_filter = filters.intersects(city_union, sr=sr)"
   ]
  },
  {
   "cell_type": "markdown",
   "metadata": {},
   "source": [
    "The most recent CRS audit required the city to report on LOMRs after August 16, 2018. So the result we want is all LOMRs on or after this date that reside within the city's limits."
   ]
  },
  {
   "cell_type": "code",
   "execution_count": null,
   "metadata": {},
   "outputs": [],
   "source": [
    "date_str = '2018-08-16'\n",
    "clause = f\"STATUS = 'Effective' AND EFF_DATE >= '{date_str}'\""
   ]
  },
  {
   "cell_type": "code",
   "execution_count": null,
   "metadata": {},
   "outputs": [],
   "source": [
    "boulder_lomrs = lomr.query(where=clause,\n",
    "                           geometry_filter=geom_filter,\n",
    "                           out_sr=sr)"
   ]
  },
  {
   "cell_type": "markdown",
   "metadata": {},
   "source": [
    "Now that we've collected all lomr geometries and attributes that have gone effective after the comparison date, let's see if we can union all the geometries and use the result to query the SFHA."
   ]
  },
  {
   "cell_type": "code",
   "execution_count": null,
   "metadata": {},
   "outputs": [],
   "source": [
    "lomr_geoms = [Geometry(lomr.geometry) for lomr in boulder_lomrs.features]\n",
    "lomr_buffer = buffer(geometries=lomr_geoms, in_sr=sr, distances=[3], unit=9003, out_sr=sr, union_results=True, gis=anon_gis)[0]\n",
    "lomr_geom_filter = filters.contains(lomr_buffer, sr=sr)"
   ]
  },
  {
   "cell_type": "code",
   "execution_count": null,
   "metadata": {},
   "outputs": [],
   "source": [
    "lomr_flood = sfha.query(where=\"ZONE_SUBTY <> 'AREA OF MINIMAL FLOOD HAZARD'\",\n",
    "                        geometry_filter=lomr_geom_filter,\n",
    "                        out_sr=sr,\n",
    "                        as_df=True)\n",
    "lomr_flood"
   ]
  }
 ],
 "metadata": {
  "language_info": {
   "codemirror_mode": {
    "name": "ipython",
    "version": 3
   },
   "file_extension": ".py",
   "mimetype": "text/x-python",
   "name": "python",
   "nbconvert_exporter": "python",
   "pygments_lexer": "ipython3",
   "version": "3.8.2-final"
  },
  "orig_nbformat": 2,
  "kernelspec": {
   "name": "python38264bit6f398790422d4377b981536c3665c0d5",
   "display_name": "Python 3.8.2 64-bit"
  }
 },
 "nbformat": 4,
 "nbformat_minor": 2
}