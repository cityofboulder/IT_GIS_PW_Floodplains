{
 "metadata": {
  "language_info": {
   "codemirror_mode": {
    "name": "ipython",
    "version": 3
   },
   "file_extension": ".py",
   "mimetype": "text/x-python",
   "name": "python",
   "nbconvert_exporter": "python",
   "pygments_lexer": "ipython3",
   "version": "3.8.3-final"
  },
  "orig_nbformat": 2,
  "kernelspec": {
   "name": "Python 3.8.3 64-bit ('floodplains_env': conda)",
   "display_name": "Python 3.8.3 64-bit ('floodplains_env': conda)",
   "metadata": {
    "interpreter": {
     "hash": "cc1be9153860851d079785dca9d1ccc682e70b15b3c2df57e20d3fc6210bfe79"
    }
   }
  }
 },
 "nbformat": 4,
 "nbformat_minor": 2,
 "cells": [
  {
   "cell_type": "code",
   "execution_count": null,
   "metadata": {},
   "outputs": [],
   "source": [
    "import arcgis\n",
    "import os\n",
    "import pandas as pd\n",
    "import numpy as np"
   ]
  },
  {
   "cell_type": "code",
   "execution_count": null,
   "metadata": {},
   "outputs": [],
   "source": [
    "with open(f\"..{os.sep}sample_data.json\", \"r\") as f:\n",
    "    df = pd.read_json(f, orient=\"records\", date_unit=\"ms\")\n",
    "df = arcgis.features.SpatialDataFrame(df)"
   ]
  },
  {
   "cell_type": "code",
   "execution_count": null,
   "metadata": {},
   "outputs": [],
   "source": [
    "def dissolve_sdf(df, by=None):\n",
    "    def dissolve_shapes(row, sr):\n",
    "        tmp = arcgis.gis.GIS()\n",
    "        geom = arcgis.geometry.functions.union(geometries=row.SHAPE, spatial_ref=sr, gis=tmp)\n",
    "        return geom\n",
    "    \n",
    "    if by:\n",
    "        na = df.fillna({f: \"NONE\" for f in by})\n",
    "        grouped = na.groupby(by)\n",
    "        listed_geoms = grouped.SHAPE.apply(list)\n",
    "        listed_geoms = listed_geoms.reset_index()\n",
    "        dissolved = listed_geoms.replace(\"NONE\", np.NaN)\n",
    "    else:\n",
    "        geoms = [df.SHAPE.to_list()]\n",
    "        dissolved = pd.DataFrame([geoms], columns=[\"SHAPE\"])\n",
    "\n",
    "    dissolved.SHAPE = dissolved.apply(dissolve_shapes, sr=2876, axis=1)\n",
    "\n",
    "    return dissolved"
   ]
  },
  {
   "cell_type": "code",
   "execution_count": null,
   "metadata": {},
   "outputs": [],
   "source": [
    "fields = [\"FLOODPLAIN\", \"FEMAZONE\", \"DRAINAGE\", \"LIFECYCLE\", \"ADOPTDATE\", \"INEFFDATE\", \"SOURCE\"]\n",
    "diss = dissolve_sdf(df, fields)\n",
    "diss"
   ]
  },
  {
   "cell_type": "code",
   "execution_count": null,
   "metadata": {},
   "outputs": [],
   "source": []
  }
 ]
}