{
 "metadata": {
  "language_info": {
   "codemirror_mode": {
    "name": "ipython",
    "version": 3
   },
   "file_extension": ".py",
   "mimetype": "text/x-python",
   "name": "python",
   "nbconvert_exporter": "python",
   "pygments_lexer": "ipython3",
   "version": "3.6.6-final"
  },
  "orig_nbformat": 2,
  "kernelspec": {
   "name": "Python 3.6.6 64-bit ('floodplains_env': conda)",
   "display_name": "Python 3.6.6 64-bit ('floodplains_env': conda)",
   "metadata": {
    "interpreter": {
     "hash": "056d2689ea6deedcfd0a4b6df0b9aa63c99d0561e06b6e43872ac5abd3f043bd"
    }
   }
  }
 },
 "nbformat": 4,
 "nbformat_minor": 2,
 "cells": [
  {
   "cell_type": "code",
   "execution_count": null,
   "metadata": {},
   "outputs": [],
   "source": [
    "import arcgis\n",
    "import pandas as pd\n",
    "import numpy as np"
   ]
  },
  {
   "cell_type": "code",
   "execution_count": null,
   "metadata": {},
   "outputs": [],
   "source": [
    "with open(r\"..\\data.json\", \"r\") as f:\n",
    "    df = pd.read_json(f, orient=\"records\", date_unit=\"ms\")\n",
    "df = arcgis.features.SpatialDataFrame(df)"
   ]
  },
  {
   "cell_type": "code",
   "execution_count": null,
   "metadata": {},
   "outputs": [],
   "source": [
    "def dissolve_sdf(df, fields):\n",
    "    def dissolve_shapes(row, sr):\n",
    "        tmp = arcgis.gis.GIS()\n",
    "        geom = arcgis.geometry.functions.union(geometries=row.SHAPE, spatial_ref=sr, gis=tmp)\n",
    "        return geom\n",
    "    \n",
    "    na = df.fillna(\"NONE\")\n",
    "\n",
    "    grouped = na.groupby(fields)\n",
    "\n",
    "    listed_geoms = grouped.SHAPE.apply(list)\n",
    "    listed_geoms = lisetd_geoms.reset_index()\n",
    "\n",
    "    dissolved = listed_geoms.replace(\"NONE\", np.NaN)\n",
    "\n",
    "    dissolved.SHAPE = dissolved.apply(dissolve_shapes, sr=2876, axis=1)\n",
    "\n",
    "    return dissolved"
   ]
  },
  {
   "cell_type": "code",
   "execution_count": null,
   "metadata": {},
   "outputs": [],
   "source": [
    "diss = dissolve_sdf(df, [\"FLOODPLAIN\", \"FEMAZONE\", \"DRAINAGE\", \"LIFECYCLE\", \"ADOPTDATE\", \"INEFFDATE\", \"SOURCE\"])\n",
    "diss"
   ]
  }
 ]
}