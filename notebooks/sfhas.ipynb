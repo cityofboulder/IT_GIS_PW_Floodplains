{
 "cells": [
  {
   "cell_type": "markdown",
   "metadata": {},
   "source": [
    "# Transforming SFHAs\n",
    "\n",
    "This notebook experiments with transforming data from REST API queries in-place, either in pandas dataframes or python dicts."
   ]
  },
  {
   "cell_type": "markdown",
   "metadata": {},
   "source": [
    "## Extracting corrected LOMRs and all flood delineations inside those LOMRs"
   ]
  },
  {
   "cell_type": "code",
   "execution_count": null,
   "metadata": {},
   "outputs": [],
   "source": [
    "from arcgis.gis import GIS\n",
    "from arcgis.features import Feature, FeatureSet, FeatureLayer, FeatureLayerCollection, SpatialDataFrame\n",
    "from arcgis.geometry import Geometry, Point, filters, union, buffer\n",
    "import pandas as pd"
   ]
  },
  {
   "cell_type": "code",
   "execution_count": null,
   "metadata": {},
   "outputs": [],
   "source": [
    "# Feature services\n",
    "city_lims_url = \"https://maps.bouldercolorado.gov/arcgis/rest/services/plan/CityLimits/MapServer/0\"\n",
    "city = FeatureLayer(city_lims_url)\n",
    "\n",
    "nfhl_url = \"https://hazards.fema.gov/gis/nfhl/rest/services/public/NFHL/MapServer\"\n",
    "nfhl = FeatureLayerCollection(nfhl_url)\n",
    "lomr = nfhl.layers[1]\n",
    "sfha = nfhl.layers[27]"
   ]
  },
  {
   "cell_type": "code",
   "execution_count": null,
   "metadata": {},
   "outputs": [],
   "source": [
    "sr = 2876 # NAD83(HARN) / Colorado North (ftUS)"
   ]
  },
  {
   "cell_type": "code",
   "execution_count": null,
   "metadata": {},
   "outputs": [],
   "source": [
    "# Geometry filter object\n",
    "anon_gis = GIS()\n",
    "city_lims = city.query(out_sr=sr)\n",
    "city_geoms = [poly.geometry for poly in city_lims.features]\n",
    "city_union = union(spatial_ref=sr, geometries=city_geoms, gis=anon_gis)\n",
    "geom_filter = filters.intersects(city_union, sr=sr)"
   ]
  },
  {
   "cell_type": "code",
   "execution_count": null,
   "metadata": {},
   "outputs": [],
   "source": [
    "# Query\n",
    "date_str = '2018-08-16'\n",
    "clause = f\"STATUS = 'Effective' AND EFF_DATE >= '{date_str}'\"\n",
    "boulder_lomrs = lomr.query(where=clause,\n",
    "                           geometry_filter=geom_filter,\n",
    "                           out_sr=sr)"
   ]
  },
  {
   "cell_type": "code",
   "execution_count": null,
   "metadata": {},
   "outputs": [],
   "source": [
    "# Drop LOMR polygons that have duplicate Case Numbers and Geometries.\n",
    "temp = boulder_lomrs.sdf\n",
    "temp['GEOM_STR'] = str(temp['SHAPE'])\n",
    "temp.drop_duplicates(subset=['CASE_NO', 'GEOM_STR'], inplace=True)\n",
    "temp.sort_values(by='EFF_DATE', inplace=True, ascending=False)\n",
    "boulder_lomrs = FeatureSet.from_dataframe(temp)"
   ]
  },
  {
   "cell_type": "code",
   "execution_count": null,
   "metadata": {},
   "outputs": [],
   "source": [
    "# Query BoCo flood areas\n",
    "flood_areas = sfha.query(where=\"DFIRM_ID = '08013C' AND ZONE_SUBTY <> 'AREA OF MINIMAL FLOOD HAZARD'\",\n",
    "                         out_fields=['FLD_AR_ID', 'STUDY_TYP', 'FLD_ZONE', 'ZONE_SUBTY', 'SFHA_TF', 'STATIC_BFE', 'DEPTH'],\n",
    "                         out_sr=sr)"
   ]
  },
  {
   "cell_type": "code",
   "execution_count": null,
   "metadata": {},
   "outputs": [],
   "source": [
    "# Copy BoCo flood areas and empty the df\n",
    "flood_sdf = flood_areas.sdf\n",
    "subset = flood_sdf.copy()\n",
    "subset.drop(list(range(len(subset))),inplace=True)"
   ]
  },
  {
   "cell_type": "code",
   "execution_count": null,
   "metadata": {},
   "outputs": [],
   "source": [
    "# Loop through LOMRs and flood areas to find polys inside LOMRs\n",
    "for l in boulder_lomrs.features:\n",
    "    g = Geometry(l.geometry)\n",
    "    \n",
    "    # buffer LOMR geom by one foot to avoid topological\n",
    "    # errors where polys share an edge\n",
    "    buf = g.buffer(1)\n",
    "\n",
    "    for row in flood_areas.features:\n",
    "        area_id = row.attributes['FLD_AR_ID']\n",
    "        f = Geometry(row.geometry)\n",
    "        if buf.contains(f):\n",
    "            subset = subset.append(flood_sdf[flood_sdf['FLD_AR_ID'] == area_id],\n",
    "                                               ignore_index=True)\n",
    "\n",
    "# drop any rows that represent duplicate flood areas\n",
    "subset.drop_duplicates(subset=['FLD_AR_ID'], inplace=True)\n",
    "subset = subset.set_index(\"FLD_AR_ID\")"
   ]
  },
  {
   "cell_type": "markdown",
   "metadata": {},
   "source": [
    "## Transform the SFHAs\n",
    "\n",
    "### Criteria:\n",
    "- FLOODPLAIN\n",
    "  - 500-Year = \"FLD_ZONE = 'X' AND ZONE_SUBTY IN ('0.2 PCT ANNUAL CHANCE FLOOD HAZARD', 'LEVEE')\"\n",
    "  - 100-Year = \"SFHA_TF = 'T'\"\n",
    "    - Conveyance Zone = \"SFHA_TF = 'T' AND 'ZONE_SUBTY' = 'FLOODWAY'\"\n",
    "- DRAINAGE\n",
    "  - Use \"set-theoretic\" funcs: centroid inside city-floodplain with DRAINAGE = X\n",
    "- LIFECYCLE = 'Active'\n",
    "- ADOPTDATE = lomr enacted date. Scrape this during extract phase\n",
    "- FEMAZONE\n",
    "  - if FLD_ZONE = AO\n",
    "    - FEMAZONE = FLD_ZONE + str(DEPTH)\n",
    "  - if FLD_ZONE = AH\n",
    "    - FEMAZONE = FLD_ZONE + str(STATIC_BFE)\n",
    "- SOURCE = 'FEMA'\n",
    "- INEFFDATE = Null\n"
   ]
  },
  {
   "cell_type": "code",
   "execution_count": null,
   "metadata": {},
   "outputs": [],
   "source": [
    "# Rough spatial join of LOMRs and SFHAs\n",
    "spat_join = boulder_lomrs.sdf.spatial.join(flood_sdf)[[\"FLD_AR_ID\", \"EFF_DATE\"]]\n",
    "# Sort by effective date, most recent first\n",
    "spat_join.sort_values(by=['EFF_DATE'], inplace=True, ascending=False)\n",
    "# Remove duplicate FLD_AR_IDs, keep the first dup record encountered.\n",
    "spat_join.drop_duplicates(subset=['FLD_AR_ID'], inplace=True, keep='first')\n",
    "spat_join.rename(columns={\"EFF_DATE\": \"ADOPTDATE\"}, inplace=True)\n",
    "spat_join = spat_join.set_index('FLD_AR_ID')"
   ]
  },
  {
   "cell_type": "code",
   "execution_count": null,
   "metadata": {},
   "outputs": [],
   "source": [
    "city_flood_url = \"https://maps.bouldercolorado.gov/arcgis3/rest/services/util/Floodplain/MapServer/3\"\n",
    "city_flood = FeatureLayer(city_flood_url)\n",
    "sfha_compare = city_flood.query(out_fields=['DRAINAGE'], out_sr=2876, as_df=True)"
   ]
  },
  {
   "cell_type": "code",
   "execution_count": null,
   "metadata": {},
   "outputs": [],
   "source": [
    "def union_drainages(row):\n",
    "    no_sr = union(geometries=row[\"SHAPE\"], spatial_ref=sr, gis=anon_gis)\n",
    "    geom = Geometry({\"rings\": no_sr.rings, \"spatialReference\": {\"wkid\": sr}})\n",
    "    return geom\n",
    "\n",
    "drainages = pd.DataFrame(sfha_compare.groupby(\"DRAINAGE\")[\"SHAPE\"].apply(list)).reset_index()\n",
    "drainages[\"SHAPE\"] = drainages.apply(union_drainages, axis=1)\n",
    "drain_fs = FeatureSet.from_dataframe(drainages)"
   ]
  },
  {
   "cell_type": "code",
   "execution_count": null,
   "metadata": {},
   "outputs": [],
   "source": [
    "def calc_floodplain(row):\n",
    "    if row[\"FLD_ZONE\"] == 'X' and row[\"ZONE_SUBTY\"] in ('0.2 PCT ANNUAL CHANCE FLOOD HAZARD', 'AREA WITH REDUCED FLOOD RISK DUE TO LEVEE'):\n",
    "        floodplain = '500-Year'\n",
    "    if row[\"SFHA_TF\"] == \"T\":\n",
    "        if row[\"ZONE_SUBTY\"] == 'FLOODWAY':\n",
    "            floodplain = 'Conveyance Zone'\n",
    "        else:\n",
    "            floodplain = '100-Year'\n",
    "    return floodplain\n",
    "\n",
    "def calc_femazone(row):\n",
    "    if row[\"FLD_ZONE\"] == 'AO':\n",
    "        zone = 'AO' + str(row['DEPTH'])\n",
    "    elif row[\"FLD_ZONE\"] == 'AH':\n",
    "        zone = 'AH' + STR(row[\"STATIC_BFE\"])\n",
    "    else:\n",
    "        zone = row[\"FLD_ZONE\"]\n",
    "    return zone\n",
    "\n",
    "def calc_drainage(row):\n",
    "    for item in drain_fs.features:\n",
    "        x, y = row[\"SHAPE\"].centroid\n",
    "        centroid = Geometry({\"x\": x, \"y\": y, \"spatialReference\": {\"wkid\": sr}})\n",
    "        drain = item.attributes[\"DRAINAGE\"]\n",
    "        g = Geometry(item.geometry)\n",
    "        if g.contains(centroid):\n",
    "            return drain\n",
    "\n",
    "\n",
    "subset[\"FLOODPLAIN\"] = subset.apply(calc_floodplain, axis=1)\n",
    "subset[\"FEMAZONE\"] = subset.apply(calc_femazone, axis=1)\n",
    "subset[\"DRAINAGE\"] = subset.apply(calc_drainage, axis=1)\n",
    "subset[\"INEFFDATE\"] = None\n",
    "subset[\"LIFECYCLE\"] = \"Active\"\n",
    "subset[\"SOURCE\"] = \"FEMA\"\n",
    "subset = subset.join(spat_join) #  To calc ADOPTDATE"
   ]
  },
  {
   "cell_type": "code",
   "execution_count": null,
   "metadata": {},
   "outputs": [],
   "source": []
  }
 ],
 "metadata": {
  "language_info": {
   "codemirror_mode": {
    "name": "ipython",
    "version": 3
   },
   "file_extension": ".py",
   "mimetype": "text/x-python",
   "name": "python",
   "nbconvert_exporter": "python",
   "pygments_lexer": "ipython3",
   "version": "3.8.2-final"
  },
  "orig_nbformat": 2,
  "kernelspec": {
   "name": "python38264bit6f398790422d4377b981536c3665c0d5",
   "display_name": "Python 3.8.2 64-bit"
  }
 },
 "nbformat": 4,
 "nbformat_minor": 2
}