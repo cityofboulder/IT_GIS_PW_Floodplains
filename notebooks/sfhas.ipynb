{
 "cells": [
  {
   "cell_type": "markdown",
   "metadata": {},
   "source": [
    "# Transforming SFHAs\n",
    "\n",
    "This notebook experiments with transforming data from REST API queries in-place, either in pandas dataframes or python dicts."
   ]
  },
  {
   "cell_type": "code",
   "execution_count": null,
   "metadata": {},
   "outputs": [],
   "source": [
    "from arcgis.gis import GIS\n",
    "from arcgis.features import Feature, FeatureSet, FeatureLayer, FeatureLayerCollection, SpatialDataFrame\n",
    "from arcgis.geometry import Geometry, filters, union, buffer"
   ]
  },
  {
   "cell_type": "markdown",
   "metadata": {},
   "source": [
    "Extract Boulder city limits, FEMA lomr boundaries, and FEMA special flood hazard areas (sfha) polygons"
   ]
  },
  {
   "cell_type": "code",
   "execution_count": null,
   "metadata": {},
   "outputs": [],
   "source": [
    "city_lims_url = \"https://maps.bouldercolorado.gov/arcgis/rest/services/plan/CityLimits/MapServer/0\"\n",
    "city = FeatureLayer(city_lims_url)\n",
    "\n",
    "nfhl_url = \"https://hazards.fema.gov/gis/nfhl/rest/services/public/NFHL/MapServer\"\n",
    "nfhl = FeatureLayerCollection(nfhl_url)\n",
    "lomr = nfhl.layers[1]\n",
    "sfha = nfhl.layers[27]"
   ]
  },
  {
   "cell_type": "markdown",
   "metadata": {},
   "source": [
    "Define the output spatial reference"
   ]
  },
  {
   "cell_type": "code",
   "execution_count": null,
   "metadata": {},
   "outputs": [],
   "source": [
    "sr = 2876 # NAD83(HARN) / Colorado North (ftUS)"
   ]
  },
  {
   "cell_type": "markdown",
   "metadata": {},
   "source": [
    "Extract city limits as a spatial filter object, and get all lomrs inside"
   ]
  },
  {
   "cell_type": "code",
   "execution_count": null,
   "metadata": {},
   "outputs": [],
   "source": [
    "# using the unioned city boundary polygon\n",
    "anon_gis = GIS()\n",
    "city_lims = city.query(out_sr=sr)\n",
    "city_geoms = [poly.geometry for poly in city_lims.features]\n",
    "city_union = union(spatial_ref=sr, geometries=city_geoms, gis=anon_gis)\n",
    "geom_filter = filters.intersects(city_union, sr=sr)"
   ]
  },
  {
   "cell_type": "markdown",
   "metadata": {},
   "source": [
    "The most recent CRS audit required the city to report on LOMRs after August 16, 2018. So the result we want is all LOMRs on or after this date that reside within the city's limits."
   ]
  },
  {
   "cell_type": "code",
   "execution_count": null,
   "metadata": {},
   "outputs": [],
   "source": [
    "date_str = '2020-02-01'\n",
    "clause = f\"STATUS = 'Effective' AND EFF_DATE >= '{date_str}'\""
   ]
  },
  {
   "cell_type": "code",
   "execution_count": null,
   "metadata": {},
   "outputs": [],
   "source": [
    "boulder_lomrs = lomr.query(where=clause,\n",
    "                           geometry_filter=geom_filter,\n",
    "                           out_sr=sr)\n",
    "# Make sure to drop LOMR polygons that have duplicate Case Numbers and Geometries.\n",
    "temp = boulder_lomrs.sdf\n",
    "temp['GEOM_STR'] = str(temp['SHAPE'])\n",
    "temp.drop_duplicates(subset=['CASE_NO', 'GEOM_STR'], inplace=True)\n",
    "temp.sort_values(by='EFF_DATE', inplace=True, ascending=False)\n",
    "boulder_lomrs = FeatureSet.from_dataframe(temp)"
   ]
  },
  {
   "cell_type": "code",
   "execution_count": null,
   "metadata": {},
   "outputs": [],
   "source": [
    "# All floodplain areas in Boulder County\n",
    "flood_areas = sfha.query(where=\"DFIRM_ID = '08013C'\",\n",
    "                         out_fields=['FLD_AR_ID', 'STUDY_TYP', 'FLD_ZONE', 'ZONE_SUBTY', 'SFHA_TF', 'STATIC_BFE', 'DEPTH'],\n",
    "                         out_sr=sr)"
   ]
  },
  {
   "cell_type": "code",
   "execution_count": null,
   "metadata": {},
   "outputs": [],
   "source": [
    "# Create an empty dataframe as a container for all rows in `flood_areas` that are within the LOMR areas.\n",
    "all_flood = flood_areas.sdf\n",
    "flood_subset = all_flood.copy()\n",
    "flood_subset.drop(list(range(len(flood_subset))),inplace=True)"
   ]
  },
  {
   "cell_type": "code",
   "execution_count": null,
   "metadata": {},
   "outputs": [],
   "source": [
    "for l in boulder_lomrs.features:\n",
    "    g = Geometry(l.geometry)\n",
    "    \n",
    "    # buffer LOMR geom by one foot to avoid topological\n",
    "    # errors where polys share an edge\n",
    "    buf = g.buffer(1)\n",
    "\n",
    "    for row in flood_areas.features:\n",
    "        area_id = row.attributes['FLD_AR_ID']\n",
    "        f = Geometry(row.geometry)\n",
    "        if buf.contains(f):\n",
    "            flood_subset = flood_subset.append(all_flood[all_flood['FLD_AR_ID'] == area_id],\n",
    "                                               ignore_index=True)\n",
    "\n",
    "# drop any rows that represent duplicate flood areas\n",
    "flood_subset.drop_duplicates(subset=['FLD_AR_ID'], inplace=True)"
   ]
  },
  {
   "cell_type": "markdown",
   "metadata": {},
   "source": [
    "## Transformations\n",
    "\n",
    "- FLOODPLAIN\n",
    "  - 500-Year = \"FLD_ZONE = 'X' AND ZONE_SUBTY = '0.2 PCT ANNUAL CHANCE FLOOD HAZARD'\"\n",
    "  - 100-Year = \"SFHA_TF = 'T'\"\n",
    "    - Conveyance Zone = \"SFHA_TF = 'T' AND 'ZONE_SUBTY' = 'FLOODWAY'\"\n",
    "- DRAINAGE\n",
    "  - Use \"set-theoretic\" funcs: centroid inside city-floodplain with DRAINAGE = X\n",
    "- LIFECYCLE = 'Active'\n",
    "- ADOPTDATE = lomr enacted date. Scrape this during extract phase\n",
    "- FEMAZONE\n",
    "  - if FLD_ZONE = AO\n",
    "    - FEMAZONE = FLD_ZONE + str(DEPTH)\n",
    "  - if FLD_ZONE = AH\n",
    "    - FEMAZONE = FLD_ZONE + str(STATIC_BFE)\n",
    "- SOURCE = 'FEMA'\n",
    "- INEFFDATE = '12/31/9999'\n"
   ]
  }
 ],
 "metadata": {
  "language_info": {
   "codemirror_mode": {
    "name": "ipython",
    "version": 3
   },
   "file_extension": ".py",
   "mimetype": "text/x-python",
   "name": "python",
   "nbconvert_exporter": "python",
   "pygments_lexer": "ipython3",
   "version": "3.8.2-final"
  },
  "orig_nbformat": 2,
  "kernelspec": {
   "name": "python38264bit6f398790422d4377b981536c3665c0d5",
   "display_name": "Python 3.8.2 64-bit"
  }
 },
 "nbformat": 4,
 "nbformat_minor": 2
}